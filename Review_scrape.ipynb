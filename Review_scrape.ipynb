{
 "cells": [
  {
   "cell_type": "code",
   "execution_count": 1,
   "metadata": {},
   "outputs": [],
   "source": [
    "import steamreviews\n",
    "request_params = dict()\n",
    "# Reference: https://partner.steamgames.com/doc/store/localization#supported_languages\n",
    "request_params['language'] = 'all'\n",
    "# Reference: https://partner.steamgames.com/doc/store/getreviews\n",
    "request_params['review_type'] = 'all'\n",
    "request_params['purchase_type'] = 'all'\n",
    "request_params['filter_offtopic_activity'] = 0\n",
    "\n",
    "app_id = 605230 #For Grey hack\n",
    "review_dict, query_count = steamreviews.download_reviews_for_app_id(app_id, chosen_request_params=request_params)"
   ]
  },
  {
   "cell_type": "code",
   "execution_count": 7,
   "metadata": {},
   "outputs": [
    {
     "name": "stdout",
     "output_type": "stream",
     "text": [
      "dict_keys(['reviews', 'query_summary', 'cursors'])\n"
     ]
    }
   ],
   "source": [
    "print(review_dict.keys())"
   ]
  },
  {
   "cell_type": "code",
   "execution_count": 8,
   "metadata": {},
   "outputs": [
    {
     "name": "stdout",
     "output_type": "stream",
     "text": [
      "First few keys in 'reviews': ['154402757', '154400205', '154394209', '154389145', '154388760']\n",
      "{'recommendationid': '154388760', 'author': {'steamid': '76561198030883946', 'num_games_owned': 0, 'num_reviews': 21, 'playtime_forever': 46, 'playtime_last_two_weeks': 46, 'playtime_at_review': 35, 'last_played': 1703529325}, 'language': 'english', 'review': \"This is an amazingly realistic hacking simulator. It has its own simulated network online, other players can hack you in-game, it starts with very good security advice, and is really fun.\\n\\nIt teaches you about how hacking works and provides just enough information to keep it engaging while not holding your hand. \\n\\nIt has its own scripting language in which you can write your own tools and scripts. It's just amazing.\", 'timestamp_created': 1703528804, 'timestamp_updated': 1703528804, 'voted_up': True, 'votes_up': 3, 'votes_funny': 0, 'weighted_vote_score': '0.54356849193572998', 'comment_count': 0, 'steam_purchase': True, 'received_for_free': False, 'written_during_early_access': True, 'hidden_in_steam_china': True, 'steam_china_location': ''}\n"
     ]
    }
   ],
   "source": [
    "first_few_keys = list(review_dict['reviews'].keys())[:5]\n",
    "print(\"First few keys in 'reviews':\", first_few_keys)\n",
    "\n",
    "# Accessing the first review using the first key from the list of keys\n",
    "first_review_key = first_few_keys[4]\n",
    "first_review = review_dict['reviews'][first_review_key]\n",
    "\n",
    "# Print the first review\n",
    "print(first_review)"
   ]
  },
  {
   "cell_type": "code",
   "execution_count": 9,
   "metadata": {},
   "outputs": [
    {
     "name": "stdout",
     "output_type": "stream",
     "text": [
      "Reviews saved to greyhack_reviews.json\n"
     ]
    }
   ],
   "source": [
    "import json\n",
    "\n",
    "filename = 'greyhack_reviews.json'\n",
    "\n",
    "with open(filename, 'w', encoding='utf-8') as file:\n",
    "    json.dump(review_dict, file, ensure_ascii=False, indent=4)\n",
    "\n",
    "print(f\"Reviews saved to {filename}\")"
   ]
  },
  {
   "cell_type": "code",
   "execution_count": null,
   "metadata": {},
   "outputs": [],
   "source": []
  }
 ],
 "metadata": {
  "kernelspec": {
   "display_name": "Python 3",
   "language": "python",
   "name": "python3"
  },
  "language_info": {
   "codemirror_mode": {
    "name": "ipython",
    "version": 3
   },
   "file_extension": ".py",
   "mimetype": "text/x-python",
   "name": "python",
   "nbconvert_exporter": "python",
   "pygments_lexer": "ipython3",
   "version": "3.8.8"
  }
 },
 "nbformat": 4,
 "nbformat_minor": 2
}
